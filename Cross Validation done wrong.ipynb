{
 "cells": [
  {
   "cell_type": "markdown",
   "metadata": {},
   "source": [
    "# Cross validation done wrong\n",
    "\n",
    "Cross validation is an essential tool in statistical learning to estimate the accuracy of your machine learning algorithm. Despite its great power it also exposes some fundamental risk when done wrong which may terribly bias your accuracy estimate.\n",
    "\n",
    "In this blog post I'll demonstrate using the Python scikit-learn framework how to avoid the biggest and most common pitfall of cross validation in your experiments."
   ]
  },
  {
   "cell_type": "markdown",
   "metadata": {},
   "source": [
    "## Theory first\n",
    "\n",
    "Cross validation involves randomly dividing the set of observations into `k` groups (or folds) of approximately equal size. The first fold is treated as a validation set, and the machine learning algorithm is trained on the remaining `k-1` folds. The mean squared error is then computed on the held-out fold. This procedure is repeated k times; each time, a different group of observations is treated as a validation set.\n",
    "\n",
    "This process results in k estimates of the MSE quantity, namely $MSE_1$, $MSE_2$,...$MSE_k$. The cross validation estimate for the MSE is then computed by simply averaging these values: \n",
    "$$CV_{(k)} = 1/k \\sum_{i=1}^k MSE_i$$\n",
    "\n",
    "This value is an _estimate_, say $\\hat{MSE}$, of the real $MSE$ and our goal it to make this estimate as accurate as possible."
   ]
  },
  {
   "cell_type": "markdown",
   "metadata": {},
   "source": [
    "## Hands on\n",
    "\n",
    "Let's now have a look at one of the most typical mistakes when using cross validation. When cross validation is done wrong the result is that the estimate $\\hat{MSE}$ does not reflect its real value. In other words, you may think that you just found a perfect machine learning algorithm with incredibly low $MSE$, while in reality you simply wrongly applied CV.\n",
    "\n",
    "I'll first show you - hands on - a wrong application of cross validation and then we will fix it together. To make things simple let's first generate some random data and let's pretend that we want to build a machine learning algorithm to predict the outcome."
   ]
  },
  {
   "cell_type": "markdown",
   "metadata": {},
   "source": [
    "### Dataset generation"
   ]
  },
  {
   "cell_type": "code",
   "execution_count": 42,
   "metadata": {
    "collapsed": false
   },
   "outputs": [],
   "source": [
    "# Import pandas\n",
    "import pandas as pd\n",
    "from pandas import *\n",
    "\n",
    "# Import scikit-learn\n",
    "from sklearn.linear_model import LogisticRegression\n",
    "from sklearn.cross_validation import *\n",
    "from sklearn.metrics import *\n",
    "import random"
   ]
  },
  {
   "cell_type": "markdown",
   "metadata": {},
   "source": [
    "I'll first generate a dataset of $100$ entries. Each entry has $10.000$ features. But, why so many? To demonstrate our issue I need to generate some correlation between our inputs and output which is purely casual. You'll understand _the why_ later in this post."
   ]
  },
  {
   "cell_type": "code",
   "execution_count": 2,
   "metadata": {
    "collapsed": false
   },
   "outputs": [],
   "source": [
    "features = np.random.randint(0,10,size=[100,10000])\n",
    "target = np.random.randint(0,2,size=100)"
   ]
  },
  {
   "cell_type": "code",
   "execution_count": 3,
   "metadata": {
    "collapsed": false
   },
   "outputs": [
    {
     "data": {
      "text/html": [
       "<div>\n",
       "<table border=\"1\" class=\"dataframe\">\n",
       "  <thead>\n",
       "    <tr style=\"text-align: right;\">\n",
       "      <th></th>\n",
       "      <th>0</th>\n",
       "      <th>1</th>\n",
       "      <th>2</th>\n",
       "      <th>3</th>\n",
       "      <th>4</th>\n",
       "      <th>5</th>\n",
       "      <th>6</th>\n",
       "      <th>7</th>\n",
       "      <th>8</th>\n",
       "      <th>9</th>\n",
       "      <th>...</th>\n",
       "      <th>9991</th>\n",
       "      <th>9992</th>\n",
       "      <th>9993</th>\n",
       "      <th>9994</th>\n",
       "      <th>9995</th>\n",
       "      <th>9996</th>\n",
       "      <th>9997</th>\n",
       "      <th>9998</th>\n",
       "      <th>9999</th>\n",
       "      <th>target</th>\n",
       "    </tr>\n",
       "  </thead>\n",
       "  <tbody>\n",
       "    <tr>\n",
       "      <th>0</th>\n",
       "      <td>1</td>\n",
       "      <td>2</td>\n",
       "      <td>0</td>\n",
       "      <td>1</td>\n",
       "      <td>6</td>\n",
       "      <td>0</td>\n",
       "      <td>2</td>\n",
       "      <td>6</td>\n",
       "      <td>9</td>\n",
       "      <td>3</td>\n",
       "      <td>...</td>\n",
       "      <td>7</td>\n",
       "      <td>6</td>\n",
       "      <td>0</td>\n",
       "      <td>1</td>\n",
       "      <td>4</td>\n",
       "      <td>1</td>\n",
       "      <td>0</td>\n",
       "      <td>8</td>\n",
       "      <td>3</td>\n",
       "      <td>1</td>\n",
       "    </tr>\n",
       "    <tr>\n",
       "      <th>1</th>\n",
       "      <td>4</td>\n",
       "      <td>7</td>\n",
       "      <td>9</td>\n",
       "      <td>2</td>\n",
       "      <td>4</td>\n",
       "      <td>9</td>\n",
       "      <td>9</td>\n",
       "      <td>9</td>\n",
       "      <td>4</td>\n",
       "      <td>7</td>\n",
       "      <td>...</td>\n",
       "      <td>9</td>\n",
       "      <td>1</td>\n",
       "      <td>0</td>\n",
       "      <td>0</td>\n",
       "      <td>2</td>\n",
       "      <td>6</td>\n",
       "      <td>2</td>\n",
       "      <td>1</td>\n",
       "      <td>6</td>\n",
       "      <td>0</td>\n",
       "    </tr>\n",
       "    <tr>\n",
       "      <th>2</th>\n",
       "      <td>1</td>\n",
       "      <td>1</td>\n",
       "      <td>1</td>\n",
       "      <td>1</td>\n",
       "      <td>1</td>\n",
       "      <td>6</td>\n",
       "      <td>4</td>\n",
       "      <td>0</td>\n",
       "      <td>9</td>\n",
       "      <td>5</td>\n",
       "      <td>...</td>\n",
       "      <td>8</td>\n",
       "      <td>4</td>\n",
       "      <td>5</td>\n",
       "      <td>7</td>\n",
       "      <td>6</td>\n",
       "      <td>5</td>\n",
       "      <td>4</td>\n",
       "      <td>8</td>\n",
       "      <td>5</td>\n",
       "      <td>1</td>\n",
       "    </tr>\n",
       "    <tr>\n",
       "      <th>3</th>\n",
       "      <td>2</td>\n",
       "      <td>0</td>\n",
       "      <td>5</td>\n",
       "      <td>2</td>\n",
       "      <td>5</td>\n",
       "      <td>9</td>\n",
       "      <td>7</td>\n",
       "      <td>9</td>\n",
       "      <td>2</td>\n",
       "      <td>5</td>\n",
       "      <td>...</td>\n",
       "      <td>5</td>\n",
       "      <td>1</td>\n",
       "      <td>5</td>\n",
       "      <td>1</td>\n",
       "      <td>3</td>\n",
       "      <td>3</td>\n",
       "      <td>3</td>\n",
       "      <td>8</td>\n",
       "      <td>3</td>\n",
       "      <td>1</td>\n",
       "    </tr>\n",
       "    <tr>\n",
       "      <th>4</th>\n",
       "      <td>6</td>\n",
       "      <td>3</td>\n",
       "      <td>0</td>\n",
       "      <td>0</td>\n",
       "      <td>8</td>\n",
       "      <td>0</td>\n",
       "      <td>9</td>\n",
       "      <td>9</td>\n",
       "      <td>1</td>\n",
       "      <td>4</td>\n",
       "      <td>...</td>\n",
       "      <td>6</td>\n",
       "      <td>4</td>\n",
       "      <td>2</td>\n",
       "      <td>1</td>\n",
       "      <td>5</td>\n",
       "      <td>7</td>\n",
       "      <td>9</td>\n",
       "      <td>7</td>\n",
       "      <td>5</td>\n",
       "      <td>1</td>\n",
       "    </tr>\n",
       "  </tbody>\n",
       "</table>\n",
       "<p>5 rows × 10001 columns</p>\n",
       "</div>"
      ],
      "text/plain": [
       "   0  1  2  3  4  5  6  7  8  9   ...    9991  9992  9993  9994  9995  9996  \\\n",
       "0  1  2  0  1  6  0  2  6  9  3   ...       7     6     0     1     4     1   \n",
       "1  4  7  9  2  4  9  9  9  4  7   ...       9     1     0     0     2     6   \n",
       "2  1  1  1  1  1  6  4  0  9  5   ...       8     4     5     7     6     5   \n",
       "3  2  0  5  2  5  9  7  9  2  5   ...       5     1     5     1     3     3   \n",
       "4  6  3  0  0  8  0  9  9  1  4   ...       6     4     2     1     5     7   \n",
       "\n",
       "   9997  9998  9999  target  \n",
       "0     0     8     3       1  \n",
       "1     2     1     6       0  \n",
       "2     4     8     5       1  \n",
       "3     3     8     3       1  \n",
       "4     9     7     5       1  \n",
       "\n",
       "[5 rows x 10001 columns]"
      ]
     },
     "execution_count": 3,
     "metadata": {},
     "output_type": "execute_result"
    }
   ],
   "source": [
    "df = DataFrame(features)\n",
    "df['target'] = target\n",
    "df.head()"
   ]
  },
  {
   "cell_type": "markdown",
   "metadata": {},
   "source": [
    "### Feature selection\n",
    "\n",
    "At this point we would like to know what are the features that are more useful to train our predictor. This is called _feature selection_. The simplest approach to do that is to find which of the $10.000$ features in our input is mostly correlated the target. Using `pandas` this is very easy to do thanks to the [`corr()`](http://pandas.pydata.org/pandas-docs/stable/generated/pandas.DataFrame.corr.html) function. We run `corr()` on our dataframe, we order the correlation values, and we pick the first two features. "
   ]
  },
  {
   "cell_type": "code",
   "execution_count": 8,
   "metadata": {
    "collapsed": false
   },
   "outputs": [],
   "source": [
    "corr = df.corr()['target'][df.corr()['target'] < 1].abs()\n",
    "corr.sort(ascending=False)"
   ]
  },
  {
   "cell_type": "code",
   "execution_count": 9,
   "metadata": {
    "collapsed": false
   },
   "outputs": [
    {
     "data": {
      "text/plain": [
       "3122    0.392430\n",
       "830     0.367405\n",
       "8374    0.351462\n",
       "9801    0.341806\n",
       "5585    0.336950\n",
       "Name: target, dtype: float64"
      ]
     },
     "execution_count": 9,
     "metadata": {},
     "output_type": "execute_result"
    }
   ],
   "source": [
    "corr.head()"
   ]
  },
  {
   "cell_type": "markdown",
   "metadata": {},
   "source": [
    "### Start the training\n",
    "\n",
    "Great! Out of the $10.000$ features we have been able to select two of them, i.e. feature number $3122$ and $830$ that have a $0.36$ and $0.39$ correlation with the output. At this point let's just drop all the other columns and use these two features to train a simple `LogisticRegression`. We then use scikit-learn `cross_val_score` to produce $\\hat{MSE}$."
   ]
  },
  {
   "cell_type": "code",
   "execution_count": 10,
   "metadata": {
    "collapsed": true
   },
   "outputs": [],
   "source": [
    "features = corr.index[[0,1]].values"
   ]
  },
  {
   "cell_type": "code",
   "execution_count": 13,
   "metadata": {
    "collapsed": false
   },
   "outputs": [],
   "source": [
    "training_input  = df[features].values\n",
    "training_output = df['target']"
   ]
  },
  {
   "cell_type": "code",
   "execution_count": 14,
   "metadata": {
    "collapsed": true
   },
   "outputs": [],
   "source": [
    "logreg = LogisticRegression()"
   ]
  },
  {
   "cell_type": "code",
   "execution_count": 27,
   "metadata": {
    "collapsed": false
   },
   "outputs": [],
   "source": [
    "# scikit learn return the negative value for MSE \n",
    "# http://stackoverflow.com/questions/21443865/scikit-learn-cross-validation-negative-values-with-mean-squared-error\n",
    "mse_estimate = -1 * cross_val_score(logreg, training_input, training_output, cv=10, scoring='mean_squared_error')"
   ]
  },
  {
   "cell_type": "code",
   "execution_count": 28,
   "metadata": {
    "collapsed": false
   },
   "outputs": [
    {
     "data": {
      "text/plain": [
       "array([ 0.45454545,  0.27272727,  0.27272727,  0.5       ,  0.4       ,\n",
       "        0.2       ,  0.2       ,  0.44444444,  0.33333333,  0.22222222])"
      ]
     },
     "execution_count": 28,
     "metadata": {},
     "output_type": "execute_result"
    }
   ],
   "source": [
    "mse_estimate"
   ]
  },
  {
   "cell_type": "code",
   "execution_count": 29,
   "metadata": {
    "collapsed": false
   },
   "outputs": [
    {
     "data": {
      "text/plain": [
       "0    0.33\n",
       "dtype: float64"
      ]
     },
     "execution_count": 29,
     "metadata": {},
     "output_type": "execute_result"
    }
   ],
   "source": [
    "DataFrame(mse_estimate).mean()"
   ]
  },
  {
   "cell_type": "markdown",
   "metadata": {},
   "source": [
    "### Knowledge leaking\n",
    "\n",
    "According to the previous estimate we built a system that can predict a random noise target from a random noise input with a $MSE$ of just $0.33$. The result is, as you can expect, wrong. But why? \n",
    "\n",
    "The reason is rather counterintuitive and this is why this mistake is so common. When we applied the feature selection we used information from both the training set and the test sets used for the cross validation, i.e. the correlation values. As a consequence our LogisticRegression knew information in the test sets that were supposed to be hidden to it. In fact, when you are computing $MSE_i$ in the i-th iteration of the cross validation you should be using only the information on the training fold, and nothing should come from the test fold. In our case the model did indeed have information from the test fold, i.e. the top correlated features. I think the term **knowledge leaking** express this concept fairly well. \n",
    "\n",
    "The schema that follows shows you how the knowledge leaked into the LogisticRegression because the feature selection has been applied beforehand the cross validation procedure started. The model know something about the data highlighted in yellow that it shoulnd't know, its top correlated features."
   ]
  },
  {
   "cell_type": "markdown",
   "metadata": {},
   "source": [
    "<img src=\"cv_example.png\" width=\"80%\" height=\"80%\">\n",
    "Figure 1. _ The exposed knowledge leaking. The LogisticRegression knows the top correlated features of the entire dataset (hence including test folds) because of the initial correlation operation, whilst it should be exposed only to the training fold information._"
   ]
  },
  {
   "cell_type": "markdown",
   "metadata": {},
   "source": [
    "### Proof that our model is biased\n",
    "To check that we were actually wrong let's do the following: \n",
    "* Take out a portion of the data set (take_out_set).\n",
    "* Train the LogisticRegression on the remaining data using the same feature selection we did before.\n",
    "* After the training is done check the $MSE$ on the take_out_set. \n",
    "\n",
    "Is the $MSE$ on the take_out_set similar to the $\\hat{MSE}$ we estimated with the CV?  \n",
    "The answer is no, and we got a much more reasonable $MSE$ of $0.53$ that is much higher than the $\\hat{MSE}$ of $0.33$. "
   ]
  },
  {
   "cell_type": "code",
   "execution_count": 30,
   "metadata": {
    "collapsed": false
   },
   "outputs": [],
   "source": [
    "take_out_set = df.ix[random.sample(df.index, 30)]"
   ]
  },
  {
   "cell_type": "code",
   "execution_count": 31,
   "metadata": {
    "collapsed": false
   },
   "outputs": [],
   "source": [
    "training_set = df[~(df.isin(take_out_set)).all(axis=1)]"
   ]
  },
  {
   "cell_type": "code",
   "execution_count": 32,
   "metadata": {
    "collapsed": true
   },
   "outputs": [],
   "source": [
    "corr = training_set.corr()['target'][df.corr()['target'] < 1].abs()\n",
    "corr.sort(ascending=False)\n",
    "features = corr.index[[0,1]].values"
   ]
  },
  {
   "cell_type": "code",
   "execution_count": 33,
   "metadata": {
    "collapsed": false
   },
   "outputs": [],
   "source": [
    "training_input  = training_set[features].values\n",
    "training_output = training_set['target']"
   ]
  },
  {
   "cell_type": "code",
   "execution_count": 34,
   "metadata": {
    "collapsed": true
   },
   "outputs": [],
   "source": [
    "logreg = LogisticRegression()"
   ]
  },
  {
   "cell_type": "code",
   "execution_count": 38,
   "metadata": {
    "collapsed": false
   },
   "outputs": [
    {
     "data": {
      "text/plain": [
       "LogisticRegression(C=1.0, class_weight=None, dual=False, fit_intercept=True,\n",
       "          intercept_scaling=1, max_iter=100, multi_class='ovr',\n",
       "          penalty='l2', random_state=None, solver='liblinear', tol=0.0001,\n",
       "          verbose=0)"
      ]
     },
     "execution_count": 38,
     "metadata": {},
     "output_type": "execute_result"
    }
   ],
   "source": [
    "logreg.fit(training_input, training_output)"
   ]
  },
  {
   "cell_type": "code",
   "execution_count": 39,
   "metadata": {
    "collapsed": false
   },
   "outputs": [],
   "source": [
    "y_take_out = logreg.predict(take_out_set[features])"
   ]
  },
  {
   "cell_type": "code",
   "execution_count": 43,
   "metadata": {
    "collapsed": false
   },
   "outputs": [
    {
     "data": {
      "text/plain": [
       "0.53333333333333333"
      ]
     },
     "execution_count": 43,
     "metadata": {},
     "output_type": "execute_result"
    }
   ],
   "source": [
    "mean_squared_error(take_out_set.target, y_take_out)"
   ]
  },
  {
   "cell_type": "markdown",
   "metadata": {
    "collapsed": true
   },
   "source": [
    "## Cross validation done right\n",
    "\n",
    "In the previous section we have seen that if you inject test knowledge in your model your cross validation procedure will be biased. To avoid this let's compute the features correlation during each cross validation batch. The difference is that now the features correlation will use only the information in the training fold instead of the entire dataset. That's a key insight causing the bias we saw previously. The following graph shows you the revisited procedure. This time we got a realistic $\\hat{MSE}$ of $0.53$ that confirms the data is randomly distributed.\n",
    "\n",
    "<img src=\"cv_example_2.png\" width=\"80%\" height=\"80%\">\n",
    "Figure 2. _Revisited cross validation workflow with the correlation step performed for each of the K fold train/test data folds._"
   ]
  },
  {
   "cell_type": "code",
   "execution_count": 62,
   "metadata": {
    "collapsed": false
   },
   "outputs": [
    {
     "name": "stdout",
     "output_type": "stream",
     "text": [
      "Processing fold 0\n",
      "Processing fold 1\n",
      "Processing fold 2\n",
      "Processing fold 3\n",
      "Processing fold 4\n",
      "Processing fold 5\n",
      "Processing fold 6\n",
      "Processing fold 7\n",
      "Processing fold 8\n",
      "Processing fold 9\n",
      "0    0.53\n",
      "dtype: float64\n"
     ]
    }
   ],
   "source": [
    "kf = KFold(df.shape[0], n_folds=10)\n",
    "mse = []\n",
    "fold_count = 0\n",
    "for train, test in kf:\n",
    "    print(\"Processing fold %s\" % fold_count)\n",
    "    train_fold = df.ix[train]\n",
    "    test_fold = df.ix[test]\n",
    "    \n",
    "    # find best features\n",
    "    corr = train_fold.corr()['target'][train_fold.corr()['target'] < 1].abs()\n",
    "    corr.sort(ascending=False)\n",
    "    features = corr.index[[0,1]].values\n",
    "    \n",
    "    # Get training examples\n",
    "    train_fold_input  = train_fold[features].values\n",
    "    train_fold_output = train_fold['target']\n",
    "    \n",
    "    # Fit logistic regression\n",
    "    logreg = LogisticRegression()\n",
    "    logreg.fit(train_fold_input, train_fold_output)\n",
    "    \n",
    "    # Check MSE on test set\n",
    "    pred = logreg.predict(test_fold[features])\n",
    "    mse.append(mean_squared_error(test_fold.target, pred))\n",
    "    \n",
    "    # Done with the fold\n",
    "    fold_count += 1\n",
    "\n",
    "print(DataFrame(mse).mean())"
   ]
  },
  {
   "cell_type": "code",
   "execution_count": 64,
   "metadata": {
    "collapsed": false
   },
   "outputs": [
    {
     "data": {
      "text/plain": [
       "0    0.53\n",
       "dtype: float64"
      ]
     },
     "execution_count": 64,
     "metadata": {},
     "output_type": "execute_result"
    }
   ],
   "source": [
    "DataFrame(mse).mean()"
   ]
  },
  {
   "cell_type": "markdown",
   "metadata": {},
   "source": [
    "## Conclusion\n",
    "\n",
    "We have seen how doing features engineering at the wrong step when using cross validation can terribly bias the `MSE` estimate of your machine learning algorithm. We have also seen how to correctly apply cross validation by simply moving one step down the feature engineering such that the knowledge from the test data does not leak in our learning procedure. If you want know more about cross validation and the its tradeoffs both R. Kohavi and Y. Bengio with Y. Grandvalet wrote on this topic.\n"
   ]
  },
  {
   "cell_type": "markdown",
   "metadata": {},
   "source": [
    "### References\n",
    "\n",
    "[1] [Lecture 1 on cross validation - Statistical Learning @ Stanford](https://www.youtube.com/watch?v=nZAM5OXrktY)  \n",
    "[2] [Lecture 2 on cross validation - Statistical Learning @ Stanford](https://www.youtube.com/watch?v=S06JpVoNaA0)  \n",
    "[3] [Ron Kohavi. A study of cross-validation and bootstrap for accuracy estimation and model selection](http://dl.acm.org/citation.cfm?id=1643047)  \n",
    "[4] [Y. Bengio and Y. Grandvalet. No unbiased estimator of the variance of k-fold cross-validation](http://dl.acm.org/citation.cfm?id=1044695)\n"
   ]
  },
  {
   "cell_type": "code",
   "execution_count": null,
   "metadata": {
    "collapsed": true
   },
   "outputs": [],
   "source": []
  }
 ],
 "metadata": {
  "kernelspec": {
   "display_name": "Python 2",
   "language": "python",
   "name": "python2"
  },
  "language_info": {
   "codemirror_mode": {
    "name": "ipython",
    "version": 2
   },
   "file_extension": ".py",
   "mimetype": "text/x-python",
   "name": "python",
   "nbconvert_exporter": "python",
   "pygments_lexer": "ipython2",
   "version": "2.7.6"
  }
 },
 "nbformat": 4,
 "nbformat_minor": 0
}
